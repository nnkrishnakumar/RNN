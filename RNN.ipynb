{
 "cells": [
  {
   "cell_type": "code",
   "execution_count": 1,
   "id": "c87f01a9-3f4b-4d10-b4c3-fe4cc180200f",
   "metadata": {
    "tags": []
   },
   "outputs": [],
   "source": [
    "import tensorflow as tf"
   ]
  },
  {
   "cell_type": "raw",
   "id": "20a8f024-d947-4643-95fd-2dbd5da78521",
   "metadata": {},
   "source": [
    "> In RNN, each token(word) is represented by a vector of real values\n",
    "> each sample is represented by 2D array(steps, features)\n",
    "> dim of each sample must be same.\n",
    "\n",
    "exp: \n",
    "    corpus=['food is very good','food is tasty','awesome food']\n",
    "    \n",
    "step1:\n",
    "    create vocabulary\n",
    "    {awesome,food,good,is,tasty,very}\n",
    "    \n",
    "step2:\n",
    "    > assign index for each word(0 is reserved for padding)\n",
    "    {awesome:1,food:2,good:3,is: 4,tasty:5,very:6}\n",
    "    \n",
    "step3:\n",
    "    for each document gernerate a sequence.\n",
    "    [[2,4,6,3],[2,4,5],[1,2]]\n",
    "    \n",
    "step4:\n",
    "    > using padding to make all vactors of same length\n",
    "    [[2,4,6,3],[2,4,5,0],[1,2,0,0]]\n",
    "step5:\n",
    "    >representing these sequence in one-hot vector by considering features starting from 0 to max in\n",
    "    sequences\n",
    "    \n",
    "\n",
    "    \n",
    "    \n",
    "    "
   ]
  },
  {
   "cell_type": "code",
   "execution_count": 2,
   "id": "359af6f1-4e9a-4c6d-926a-2dfa9fcc3a81",
   "metadata": {
    "tags": []
   },
   "outputs": [],
   "source": [
    "corpus=[\"food is very good\",\"food is tasty\",'awesome food']"
   ]
  },
  {
   "cell_type": "code",
   "execution_count": 4,
   "id": "73861bc3-8916-4bc5-87e2-89d05633e9c5",
   "metadata": {
    "tags": []
   },
   "outputs": [],
   "source": [
    "tk=tf.keras.preprocessing.text.Tokenizer()"
   ]
  },
  {
   "cell_type": "code",
   "execution_count": 6,
   "id": "bb3a78cf-85a9-4b75-a161-55ad2b21ae35",
   "metadata": {
    "tags": []
   },
   "outputs": [],
   "source": [
    "tk.fit_on_texts(corpus)"
   ]
  },
  {
   "cell_type": "code",
   "execution_count": 7,
   "id": "3bdaf824-c19a-432c-9441-5e0d7ac0b946",
   "metadata": {
    "tags": []
   },
   "outputs": [
    {
     "data": {
      "text/plain": [
       "{'food': 1, 'is': 2, 'very': 3, 'good': 4, 'tasty': 5, 'awesome': 6}"
      ]
     },
     "execution_count": 7,
     "metadata": {},
     "output_type": "execute_result"
    }
   ],
   "source": [
    "tk.word_index"
   ]
  },
  {
   "cell_type": "code",
   "execution_count": 8,
   "id": "eed64d5a-9a70-4652-9344-7eb82d65fb17",
   "metadata": {
    "tags": []
   },
   "outputs": [],
   "source": [
    "seqs=tk.texts_to_sequences(corpus)"
   ]
  },
  {
   "cell_type": "code",
   "execution_count": 9,
   "id": "e8c6ec3b-aff7-47a1-a41f-2dab1ae61bd1",
   "metadata": {
    "tags": []
   },
   "outputs": [
    {
     "data": {
      "text/plain": [
       "[[1, 2, 3, 4], [1, 2, 5], [6, 1]]"
      ]
     },
     "execution_count": 9,
     "metadata": {},
     "output_type": "execute_result"
    }
   ],
   "source": [
    "seqs"
   ]
  },
  {
   "cell_type": "code",
   "execution_count": 10,
   "id": "e4887726-3ac0-49a6-91a6-c673f890dace",
   "metadata": {
    "tags": []
   },
   "outputs": [],
   "source": [
    "#padding is required "
   ]
  },
  {
   "cell_type": "code",
   "execution_count": 14,
   "id": "bf8feacb-a99e-4ef6-9e2f-81fd084afe15",
   "metadata": {
    "tags": []
   },
   "outputs": [
    {
     "data": {
      "text/plain": [
       "array([[1, 2, 3, 4],\n",
       "       [1, 2, 5, 0],\n",
       "       [6, 1, 0, 0]])"
      ]
     },
     "execution_count": 14,
     "metadata": {},
     "output_type": "execute_result"
    }
   ],
   "source": [
    "pad_seqs=tf.keras.preprocessing.sequence.pad_sequences(seqs,padding='post',maxlen=4)\n",
    "pad_seqs"
   ]
  },
  {
   "cell_type": "code",
   "execution_count": 16,
   "id": "194be176-62a0-4a83-baa2-85b98d6a465c",
   "metadata": {
    "tags": []
   },
   "outputs": [],
   "source": [
    "one_hot=tf.keras.utils.to_categorical(pad_seqs)"
   ]
  },
  {
   "cell_type": "code",
   "execution_count": 17,
   "id": "a6c93ce0-0c2c-402a-a20c-e1629cd146b5",
   "metadata": {
    "tags": []
   },
   "outputs": [
    {
     "data": {
      "text/plain": [
       "array([[[0., 1., 0., 0., 0., 0., 0.],\n",
       "        [0., 0., 1., 0., 0., 0., 0.],\n",
       "        [0., 0., 0., 1., 0., 0., 0.],\n",
       "        [0., 0., 0., 0., 1., 0., 0.]],\n",
       "\n",
       "       [[0., 1., 0., 0., 0., 0., 0.],\n",
       "        [0., 0., 1., 0., 0., 0., 0.],\n",
       "        [0., 0., 0., 0., 0., 1., 0.],\n",
       "        [1., 0., 0., 0., 0., 0., 0.]],\n",
       "\n",
       "       [[0., 0., 0., 0., 0., 0., 1.],\n",
       "        [0., 1., 0., 0., 0., 0., 0.],\n",
       "        [1., 0., 0., 0., 0., 0., 0.],\n",
       "        [1., 0., 0., 0., 0., 0., 0.]]], dtype=float32)"
      ]
     },
     "execution_count": 17,
     "metadata": {},
     "output_type": "execute_result"
    }
   ],
   "source": [
    "one_hot"
   ]
  },
  {
   "cell_type": "code",
   "execution_count": 18,
   "id": "3298be41-a58a-4011-ad71-9b56a1885842",
   "metadata": {
    "tags": []
   },
   "outputs": [],
   "source": [
    "import pandas as pd"
   ]
  },
  {
   "cell_type": "code",
   "execution_count": 21,
   "id": "ce24fabf-d8ca-4875-8104-14d29ed1f22f",
   "metadata": {
    "tags": []
   },
   "outputs": [],
   "source": [
    "df=pd.read_csv(\"Restaurant_Reviews.tsv\",delimiter=\"\\t\")"
   ]
  },
  {
   "cell_type": "code",
   "execution_count": 34,
   "id": "7b0597ea-1954-401e-98c1-4243c0e1793e",
   "metadata": {
    "tags": []
   },
   "outputs": [],
   "source": [
    "corpus=df.Review"
   ]
  },
  {
   "cell_type": "code",
   "execution_count": 35,
   "id": "35dd9cbd-931a-428a-b74c-d21777826cf7",
   "metadata": {
    "tags": []
   },
   "outputs": [],
   "source": [
    "y=df.Liked"
   ]
  },
  {
   "cell_type": "code",
   "execution_count": 56,
   "id": "140de943-e236-4d8e-8d00-df320e50e7f0",
   "metadata": {
    "tags": []
   },
   "outputs": [],
   "source": [
    "import nltk\n",
    "sw=nltk.corpus.stopwords.words(\"english\")\n",
    "sw.remove('not')\n",
    "sw.remove('no')\n",
    "import re\n",
    "def clean(doc):\n",
    "    doc=doc.lower()\n",
    "    doc=re.sub(\"[^a-z ]\", \"\",doc)\n",
    "    string=\"\"\n",
    "    for i in doc.split():\n",
    "        if i not in sw:\n",
    "            string+=i+\" \"      \n",
    "    return string.strip()"
   ]
  },
  {
   "cell_type": "code",
   "execution_count": 57,
   "id": "3ecf319c-21c3-49e7-b8bf-41a6768514fd",
   "metadata": {
    "tags": []
   },
   "outputs": [],
   "source": [
    "clean_corpus=list(map(clean,corpus))"
   ]
  },
  {
   "cell_type": "code",
   "execution_count": 59,
   "id": "2362c208-416b-4ec4-b09c-7d12017ef706",
   "metadata": {
    "tags": []
   },
   "outputs": [],
   "source": [
    "tk=tf.keras.preprocessing.text.Tokenizer()"
   ]
  },
  {
   "cell_type": "code",
   "execution_count": 65,
   "id": "93771643-805b-4d1b-9e54-23d088cf917e",
   "metadata": {
    "tags": []
   },
   "outputs": [],
   "source": [
    "tk.fit_on_texts(clean_corpus)"
   ]
  },
  {
   "cell_type": "code",
   "execution_count": 84,
   "id": "561c8c48-f198-42ab-abfc-9cf4e5af80c0",
   "metadata": {
    "tags": []
   },
   "outputs": [],
   "source": [
    "tk.word_index\n",
    "seq=tk.texts_to_sequences(clean_corpus)\n",
    "pad_seq=tf.keras.preprocessing.sequence.pad_sequences(seq,padding=\"post\")\n",
    "one_hot_pad_seq=tf.keras.utils.to_categorical(pad_seq)"
   ]
  },
  {
   "cell_type": "code",
   "execution_count": 86,
   "id": "59784722-fd0f-4b5b-98c4-bbade41181da",
   "metadata": {
    "tags": []
   },
   "outputs": [
    {
     "data": {
      "text/plain": [
       "(1000, 20, 1939)"
      ]
     },
     "execution_count": 86,
     "metadata": {},
     "output_type": "execute_result"
    }
   ],
   "source": [
    "one_hot_pad_seq.shape"
   ]
  },
  {
   "cell_type": "code",
   "execution_count": 93,
   "id": "c34622fe-d67b-4dee-8ce5-4643da2e6621",
   "metadata": {
    "tags": []
   },
   "outputs": [
    {
     "name": "stdout",
     "output_type": "stream",
     "text": [
      "Epoch 1/5\n",
      "32/32 [==============================] - 2s 14ms/step - loss: 0.6935 - accuracy: 0.4960\n",
      "Epoch 2/5\n",
      "32/32 [==============================] - 0s 13ms/step - loss: 0.6603 - accuracy: 0.7030\n",
      "Epoch 3/5\n",
      "32/32 [==============================] - 0s 13ms/step - loss: 0.4689 - accuracy: 0.8360\n",
      "Epoch 4/5\n",
      "32/32 [==============================] - 0s 13ms/step - loss: 0.1742 - accuracy: 0.9550\n",
      "Epoch 5/5\n",
      "32/32 [==============================] - 0s 13ms/step - loss: 0.0495 - accuracy: 0.9910\n"
     ]
    },
    {
     "data": {
      "text/plain": [
       "<keras.callbacks.History at 0x263f4425390>"
      ]
     },
     "execution_count": 93,
     "metadata": {},
     "output_type": "execute_result"
    }
   ],
   "source": [
    "model=tf.keras.Sequential([\n",
    "tf.keras.layers.SimpleRNN(10,input_shape=(20,1939)),\n",
    "tf.keras.layers.Flatten(),\n",
    "tf.keras.layers.Dense(50,activation='relu'),\n",
    "tf.keras.layers.Dense(2,activation='softmax')])\n",
    "model.compile(optimizer=tf.keras.optimizers.Adam(),loss=tf.keras.losses.sparse_categorical_crossentropy,metrics=['accuracy'])\n",
    "model.fit(one_hot_pad_seq,y,epochs=5)"
   ]
  },
  {
   "cell_type": "code",
   "execution_count": 104,
   "id": "1f74dd18-076e-49e3-96f0-e536fb7b4e3c",
   "metadata": {
    "tags": []
   },
   "outputs": [],
   "source": [
    "sample=\"food is not good\"\n",
    "clean_sample_corpus=clean(sample)"
   ]
  },
  {
   "cell_type": "code",
   "execution_count": 98,
   "id": "2d5720f3-e44e-4f44-b62b-57476cca3dd8",
   "metadata": {
    "tags": []
   },
   "outputs": [
    {
     "data": {
      "text/plain": [
       "'food not good'"
      ]
     },
     "execution_count": 98,
     "metadata": {},
     "output_type": "execute_result"
    }
   ],
   "source": [
    "clean_sample_corpus"
   ]
  },
  {
   "cell_type": "code",
   "execution_count": 108,
   "id": "5631a41b-fc99-40ca-92a4-25aa806fe86f",
   "metadata": {
    "tags": []
   },
   "outputs": [],
   "source": [
    "seq_clean_sample_corpus=tk.texts_to_sequences([clean_sample_corpus])"
   ]
  },
  {
   "cell_type": "code",
   "execution_count": 109,
   "id": "7c7c2cca-bfc5-4f4c-b1a5-fad78ec65f08",
   "metadata": {
    "tags": []
   },
   "outputs": [
    {
     "data": {
      "text/plain": [
       "[[1, 2, 4]]"
      ]
     },
     "execution_count": 109,
     "metadata": {},
     "output_type": "execute_result"
    }
   ],
   "source": [
    "seq_clean_sample_corpus"
   ]
  },
  {
   "cell_type": "code",
   "execution_count": 118,
   "id": "76dcdf94-9e96-4e67-805f-cca738aab141",
   "metadata": {
    "tags": []
   },
   "outputs": [],
   "source": [
    "pad_seq_seq_clean_sample_corpus=tf.keras.preprocessing.sequence.pad_sequences(seq_clean_sample_corpus,padding='post',maxlen=20)"
   ]
  },
  {
   "cell_type": "code",
   "execution_count": 121,
   "id": "12117385-6f97-4403-94cf-5ca40ab7311f",
   "metadata": {
    "tags": []
   },
   "outputs": [],
   "source": [
    "sample_matrix=tf.keras.utils.to_categorical(pad_seq_seq_clean_sample_corpus,num_classes=1939)"
   ]
  },
  {
   "cell_type": "code",
   "execution_count": 122,
   "id": "a681800c-db81-412a-9902-3a621ad2a163",
   "metadata": {
    "tags": []
   },
   "outputs": [
    {
     "name": "stdout",
     "output_type": "stream",
     "text": [
      "1/1 [==============================] - 0s 317ms/step\n"
     ]
    },
    {
     "data": {
      "text/plain": [
       "array([[0.9642228 , 0.03577723]], dtype=float32)"
      ]
     },
     "execution_count": 122,
     "metadata": {},
     "output_type": "execute_result"
    }
   ],
   "source": [
    "model.predict(sample_matrix)"
   ]
  },
  {
   "cell_type": "code",
   "execution_count": null,
   "id": "44e52203-d951-472c-9ee5-62140cca714a",
   "metadata": {},
   "outputs": [],
   "source": []
  }
 ],
 "metadata": {
  "kernelspec": {
   "display_name": "Python 3 (ipykernel)",
   "language": "python",
   "name": "python3"
  },
  "language_info": {
   "codemirror_mode": {
    "name": "ipython",
    "version": 3
   },
   "file_extension": ".py",
   "mimetype": "text/x-python",
   "name": "python",
   "nbconvert_exporter": "python",
   "pygments_lexer": "ipython3",
   "version": "3.11.2"
  }
 },
 "nbformat": 4,
 "nbformat_minor": 5
}
